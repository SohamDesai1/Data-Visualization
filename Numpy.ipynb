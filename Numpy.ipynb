{
 "cells": [
  {
   "cell_type": "code",
   "execution_count": 2,
   "metadata": {},
   "outputs": [],
   "source": [
    "import numpy as np"
   ]
  },
  {
   "cell_type": "code",
   "execution_count": 9,
   "metadata": {},
   "outputs": [],
   "source": [
    "arr = np.array([1, 2, 3, 4, 5])\n",
    "ar1 = np.array([[1, 2, 3], [4, 5, 6]])"
   ]
  },
  {
   "cell_type": "code",
   "execution_count": 10,
   "metadata": {},
   "outputs": [
    {
     "name": "stdout",
     "output_type": "stream",
     "text": [
      "() int64\n"
     ]
    }
   ],
   "source": [
    "print(arr.shape,ar1.dtype)"
   ]
  },
  {
   "cell_type": "code",
   "execution_count": 12,
   "metadata": {},
   "outputs": [
    {
     "name": "stdout",
     "output_type": "stream",
     "text": [
      "[1 2 3 4 5 6 7 8 9]\n"
     ]
    }
   ],
   "source": [
    "range = np.arange(1, 10)\n",
    "print(range)"
   ]
  },
  {
   "cell_type": "code",
   "execution_count": 15,
   "metadata": {},
   "outputs": [
    {
     "name": "stdout",
     "output_type": "stream",
     "text": [
      "[ 1.    3.25  5.5   7.75 10.  ]\n"
     ]
    }
   ],
   "source": [
    "# linspace\n",
    "linspace = np.linspace(1, 10, 5)\n",
    "print(linspace)"
   ]
  },
  {
   "cell_type": "code",
   "execution_count": null,
   "metadata": {},
   "outputs": [],
   "source": [
    "# zeros\n",
    "zeros = np.zeros((2, 3))\n",
    "print(zeros)\n",
    "\n",
    "# ones\n",
    "ones = np.ones((2, 3))\n",
    "print(ones)\n",
    "\n",
    "# eye\n",
    "eye = np.eye(3)\n",
    "print(eye)\n",
    "\n",
    "# random\n",
    "random = np.random.random((2, 3))\n",
    "print(random)\n",
    "\n",
    "# reshape\n",
    "reshape = np.arange(1, 10).reshape(3, 3)\n",
    "print(reshape)\n",
    "\n",
    "# transpose\n",
    "transpose = np.arange(1, 10).reshape(3, 3).transpose()\n",
    "print(transpose)\n",
    "\n",
    "# flatten\n",
    "flatten = np.arange(1, 10).reshape(3, 3).flatten()\n",
    "print(flatten)\n",
    "\n",
    "#ravel\n",
    "ravel = np.arange(1, 10).reshape(3, 3).ravel()\n",
    "print(ravel)\n",
    "\n",
    "# concatenate\n",
    "concatenate = np.concatenate((np.arange(1, 4), np.arange(4, 7)))\n",
    "print(concatenate)\n",
    "\n",
    "# vstack\n",
    "vstack = np.vstack((np.arange(1, 4), np.arange(4, 7)))\n",
    "print(vstack)\n",
    "\n",
    "# hstack\n",
    "hstack = np.hstack((np.arange(1, 4), np.arange(4, 7)))\n",
    "print(hstack)\n",
    "\n",
    "# split\n",
    "split = np.arange(1, 10)\n",
    "print(np.split(split, 3))\n",
    "\n",
    "# indexing\n",
    "indexing = np.arange(1, 10).reshape(3, 3)\n",
    "print(indexing[1, 1])\n",
    "\n",
    "# slicing\n",
    "slicing = np.arange(1, 10).reshape(3, 3)\n",
    "print(slicing[1:, 1:])\n",
    "print(slicing[1:, 1:2])\n",
    "\n",
    "# boolean indexing\n",
    "boolean_indexing = np.arange(1, 10).reshape(3, 3)\n",
    "print(boolean_indexing[boolean_indexing > 5])\n",
    "\n",
    "# array operations\n",
    "array_operations = np.arange(1, 10).reshape(3, 3)\n",
    "print(array_operations + 1)\n",
    "print(array_operations - 1)\n",
    "print(array_operations * 2)\n",
    "print(array_operations / 2)\n",
    "print(array_operations ** 2)\n",
    "print(array_operations % 2)\n",
    "print(array_operations // 2)\n",
    "\n"
   ]
  },
  {
   "cell_type": "code",
   "execution_count": null,
   "metadata": {},
   "outputs": [],
   "source": [
    "#argmax\n",
    "argmax = np.arange(1, 10).reshape(3, 3)\n",
    "print(argmax.argmax())\n",
    "\n",
    "#argmin\n",
    "argmin = np.arange(1, 10).reshape(3, 3)\n",
    "print(argmin.argmin())\n",
    "\n",
    "#max\n",
    "max = np.arange(1, 10).reshape(3, 3)\n",
    "print(max.max())\n",
    "\n",
    "#min\n",
    "min = np.arange(1, 10).reshape(3, 3)\n",
    "print(min.min())\n",
    "\n",
    "#mean\n",
    "mean = np.arange(1, 10).reshape(3, 3)\n",
    "print(mean.mean())\n",
    "\n",
    "#median\n",
    "median = np.arange(1, 10).reshape(3, 3)\n",
    "print(median.median())\n",
    "\n",
    "#std\n",
    "std = np.arange(1, 10).reshape(3, 3)\n",
    "print(std.std())\n",
    "\n",
    "#sum\n",
    "sum = np.arange(1, 10).reshape(3, 3)\n",
    "print(sum.sum())\n",
    "\n",
    "#cumsum\n",
    "cumsum = np.arange(1, 10).reshape(3, 3)\n",
    "print(cumsum.cumsum())\n",
    "\n",
    "#cumprod\n",
    "cumprod = np.arange(1, 10).reshape(3, 3)\n",
    "print(cumprod.cumprod())\n",
    "\n",
    "#dot\n",
    "dot = np.arange(1, 10).reshape(3, 3)\n",
    "print(dot.dot(dot))\n",
    "\n",
    "#sort\n",
    "sort = np.arange(1, 10).reshape(3, 3)\n",
    "print(sort.sort())\n",
    "\n",
    "#unique\n",
    "unique = np.arange(1, 10).reshape(3, 3)\n",
    "print(unique.unique())\n",
    "\n",
    "#save\n",
    "save = np.arange(1, 10).reshape(3, 3)\n",
    "np.save('save', save)\n",
    "\n",
    "#load\n",
    "load = np.load('save.npy')\n",
    "print(load)\n",
    "\n",
    "#savez\n",
    "savez = np.arange(1, 10).reshape(3, 3)\n",
    "np.savez('savez', savez)\n",
    "\n",
    "#load\n",
    "load = np.load('savez.npz')\n",
    "print(load)\n",
    "\n",
    "#savez_compressed\n",
    "savez_compressed = np.arange(1, 10).reshape(3, 3)\n",
    "np.savez_compressed('savez_compressed', savez_compressed)\n",
    "\n",
    "#load\n",
    "load = np.load('savez_compressed.npz')\n",
    "print(load)\n",
    "\n"
   ]
  }
 ],
 "metadata": {
  "kernelspec": {
   "display_name": "Python 3",
   "language": "python",
   "name": "python3"
  },
  "language_info": {
   "codemirror_mode": {
    "name": "ipython",
    "version": 3
   },
   "file_extension": ".py",
   "mimetype": "text/x-python",
   "name": "python",
   "nbconvert_exporter": "python",
   "pygments_lexer": "ipython3",
   "version": "3.10.8 (main, Nov  1 2022, 14:18:21) [GCC 12.2.0]"
  },
  "orig_nbformat": 4,
  "vscode": {
   "interpreter": {
    "hash": "4e1d9a8909477db77738c33245c29c7265277ef753467dede8cf3f814cde494e"
   }
  }
 },
 "nbformat": 4,
 "nbformat_minor": 2
}
